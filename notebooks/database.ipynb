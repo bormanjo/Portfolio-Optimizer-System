{
 "cells": [
  {
   "cell_type": "code",
   "execution_count": 2,
   "metadata": {},
   "outputs": [],
   "source": [
    "import mysql.connector\n",
    "from mysql.connector import Error"
   ]
  },
  {
   "cell_type": "code",
   "execution_count": 28,
   "metadata": {},
   "outputs": [],
   "source": [
    "# https://docs.docker.com/docker-for-mac/networking/#use-cases-and-workarounds\n",
    "\n",
    "connection_config = {\n",
    "    'user':'bormanjo',\n",
    "    'password':'Brothers1883!1',\n",
    "    'host':'host.docker.internal',\n",
    "    'database':'portfolio_optimizer_db',\n",
    "    'raise_on_warnings': True,\n",
    "    'use_pure': False,\n",
    "    'autocommit' : True,  \n",
    "    'pool_size' : 5\n",
    "}"
   ]
  },
  {
   "cell_type": "code",
   "execution_count": 55,
   "metadata": {},
   "outputs": [
    {
     "name": "stdout",
     "output_type": "stream",
     "text": [
      "Succesfully Connected to MySQL database. MySQL Server version on  8.0.12\n"
     ]
    }
   ],
   "source": [
    "try:\n",
    "    connection = mysql.connector.connect(**connection_config)\n",
    "    if connection.is_connected():\n",
    "        db_info = connection.get_server_info()\n",
    "        print(\"Succesfully Connected to MySQL database. MySQL Server version on \",db_info)\n",
    "except Error as e:\n",
    "    print (\"Error while connecting to MySQL\", e)"
   ]
  },
  {
   "cell_type": "code",
   "execution_count": 70,
   "metadata": {},
   "outputs": [],
   "source": [
    "# Get the cursor object from the DB connection\n",
    "cursor = connection.cursor(buffered=True)"
   ]
  },
  {
   "cell_type": "code",
   "execution_count": 58,
   "metadata": {},
   "outputs": [],
   "source": [
    "def create_database(cursor, DB_NAME):\n",
    "    try:\n",
    "        cursor.execute(\n",
    "        \"CREATE DATABASE {}\".format(DB_NAME))\n",
    "    except Error as e:\n",
    "        print(\"Failed creating database: {}\".format(e))\n",
    "        exit(1)"
   ]
  },
  {
   "cell_type": "code",
   "execution_count": 6,
   "metadata": {},
   "outputs": [],
   "source": [
    "TABLES = {}"
   ]
  },
  {
   "cell_type": "code",
   "execution_count": 7,
   "metadata": {},
   "outputs": [],
   "source": [
    "TABLES['portfolio_weights_eod'] = (\n",
    "    \"CREATE TABLE `portfolio_weights_eod` (\"\n",
    "    \"  `date` date NOT NULL,\"\n",
    "    \"  `ticker` varchar(5) NOT NULL,\"\n",
    "    \"  `weight` float NOT NULL,\"\n",
    "    \"  `amount` float NOT NULL,\"\n",
    "    \"  `close` float NOT NULL,\"\n",
    "    \"  `shares` integer NOT NULL,\"\n",
    "    \"  PRIMARY KEY (`date`, `ticker`),\"\n",
    "    \"  KEY `date` (`date`), KEY `ticker` (`ticker`)\"\n",
    "    \") ENGINE=InnoDB\")\n",
    "\n",
    "TABLES['portfolio_weights_current'] = (\n",
    "    \"CREATE TABLE `portfolio_weights_current` (\"\n",
    "    \"  `ticker` varchar(5) NOT NULL,\"\n",
    "    \"  `weight` float NOT NULL,\"\n",
    "    \"  `amount` float NOT NULL,\"\n",
    "    \"  `close` float NOT NULL,\"\n",
    "    \"  `shares` integer NOT NULL,\"\n",
    "    \"  PRIMARY KEY (`ticker`),\"\n",
    "    \"  KEY `ticker` (`ticker`)\"\n",
    "    \") ENGINE=InnoDB\")\n",
    "\n",
    "TABLES['ohlcv'] = (\n",
    "    \"CREATE TABLE `ohlcv` (\"\n",
    "    \"  `date` date NOT NULL,\"\n",
    "    \"  `ticker` varchar(5) NOT NULL,\"\n",
    "    \"  `open` float NOT NULL,\"\n",
    "    \"  `high` float NOT NULL,\"\n",
    "    \"  `low` float NOT NULL,\"\n",
    "    \"  `close` float NOT NULL,\"\n",
    "    \"  `volume` float NOT NULL,\"\n",
    "    \"  PRIMARY KEY (`date`, `ticker`),\"\n",
    "    \"  KEY `date` (`date`), KEY `ticker` (`ticker`)\"\n",
    "    \") ENGINE=InnoDB\")"
   ]
  },
  {
   "cell_type": "code",
   "execution_count": 31,
   "metadata": {},
   "outputs": [
    {
     "name": "stdout",
     "output_type": "stream",
     "text": [
      "Creating table portfolio_weights_eod:Table portfolio_weights_eod already exists\n",
      "Creating table portfolio_weights_current:Table portfolio_weights_current already exists\n",
      "Creating table ohlcv:Table ohlcv already exists\n"
     ]
    }
   ],
   "source": [
    "\n",
    "for tbl_name, q in TABLES.items():\n",
    "    try:\n",
    "        print(\"Creating table {}:\".format(tbl_name), end='')\n",
    "        cursor.execute(q)\n",
    "    except Error as e:\n",
    "        if e.errno == mysql.connector.errorcode.ER_TABLE_EXISTS_ERROR:\n",
    "            print(\"Table {} already exists\".format(tbl_name))\n",
    "        else:\n",
    "            print(e.msg)\n",
    "    else:\n",
    "        print(\"OK\")"
   ]
  },
  {
   "cell_type": "code",
   "execution_count": 67,
   "metadata": {},
   "outputs": [],
   "source": [
    "def get_tables(cursor):\n",
    "    try:\n",
    "        cursor.execute(\"USE portfolio_optimizer_db;\")\n",
    "        cursor.execute(\"SHOW TABLES;\")\n",
    "        result = cursor.fetchall()\n",
    "        return result\n",
    "    except Error as e:\n",
    "        print(\"Failed to get tables: {}\".format(e))\n",
    "        exit(1)\n"
   ]
  },
  {
   "cell_type": "code",
   "execution_count": 68,
   "metadata": {},
   "outputs": [
    {
     "name": "stdout",
     "output_type": "stream",
     "text": [
      "[('ohlcv',), ('portfolio_weights_current',), ('portfolio_weights_eod',)]\n"
     ]
    }
   ],
   "source": [
    "print(get_tables(cursor))"
   ]
  },
  {
   "cell_type": "code",
   "execution_count": 65,
   "metadata": {},
   "outputs": [
    {
     "name": "stdout",
     "output_type": "stream",
     "text": [
      "[('ohlcv',), ('portfolio_weights_current',), ('portfolio_weights_eod',)]\n"
     ]
    }
   ],
   "source": [
    "print(result)"
   ]
  },
  {
   "cell_type": "code",
   "execution_count": null,
   "metadata": {},
   "outputs": [],
   "source": []
  }
 ],
 "metadata": {
  "kernelspec": {
   "display_name": "Python 3",
   "language": "python",
   "name": "python3"
  },
  "language_info": {
   "codemirror_mode": {
    "name": "ipython",
    "version": 3
   },
   "file_extension": ".py",
   "mimetype": "text/x-python",
   "name": "python",
   "nbconvert_exporter": "python",
   "pygments_lexer": "ipython3",
   "version": "3.6.6"
  }
 },
 "nbformat": 4,
 "nbformat_minor": 2
}
